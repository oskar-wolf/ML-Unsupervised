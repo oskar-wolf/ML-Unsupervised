{
 "cells": [
  {
   "cell_type": "code",
   "execution_count": 21,
   "metadata": {},
   "outputs": [],
   "source": [
    "from sklearn.feature_extraction.text \\\n",
    "    import TfidfVectorizer"
   ]
  },
  {
   "cell_type": "code",
   "execution_count": 22,
   "metadata": {},
   "outputs": [],
   "source": [
    "corpus = ['Martin is not a bad person.',\n",
    "          'Kevin, is the brother of Martin.',\n",
    "          'Kevin is a bad person.'] "
   ]
  },
  {
   "cell_type": "code",
   "execution_count": 23,
   "metadata": {},
   "outputs": [],
   "source": [
    "TFIDF = TfidfVectorizer(lowercase=False,\\\n",
    "    norm=None, stop_words='english')"
   ]
  },
  {
   "cell_type": "code",
   "execution_count": 24,
   "metadata": {},
   "outputs": [],
   "source": [
    "TFIDFtext = TFIDF.fit_transform(corpus)"
   ]
  },
  {
   "cell_type": "code",
   "execution_count": 25,
   "metadata": {},
   "outputs": [
    {
     "name": "stdout",
     "output_type": "stream",
     "text": [
      "['Kevin' 'Martin' 'bad' 'brother' 'person']\n"
     ]
    }
   ],
   "source": [
    "print(TFIDF.get_feature_names_out())"
   ]
  },
  {
   "cell_type": "code",
   "execution_count": 26,
   "metadata": {},
   "outputs": [
    {
     "name": "stdout",
     "output_type": "stream",
     "text": [
      "  (0, 4)\t1.2876820724517808\n",
      "  (0, 2)\t1.2876820724517808\n",
      "  (0, 1)\t1.2876820724517808\n",
      "  (1, 3)\t1.6931471805599454\n",
      "  (1, 0)\t1.2876820724517808\n",
      "  (1, 1)\t1.2876820724517808\n",
      "  (2, 0)\t1.2876820724517808\n",
      "  (2, 4)\t1.2876820724517808\n",
      "  (2, 2)\t1.2876820724517808\n"
     ]
    }
   ],
   "source": [
    "print(TFIDFtext) "
   ]
  },
  {
   "cell_type": "code",
   "execution_count": 27,
   "metadata": {},
   "outputs": [],
   "source": [
    "TFIDF = TfidfVectorizer(lowercase= False, \\\n",
    "    stop_words = 'english')"
   ]
  },
  {
   "cell_type": "code",
   "execution_count": 28,
   "metadata": {},
   "outputs": [],
   "source": [
    "TFIDFtext = TFIDF.fit_transform(corpus)"
   ]
  },
  {
   "cell_type": "code",
   "execution_count": 29,
   "metadata": {},
   "outputs": [
    {
     "name": "stdout",
     "output_type": "stream",
     "text": [
      "['Kevin' 'Martin' 'bad' 'brother' 'person']\n"
     ]
    }
   ],
   "source": [
    "print(TFIDF.get_feature_names_out())"
   ]
  },
  {
   "cell_type": "code",
   "execution_count": 30,
   "metadata": {},
   "outputs": [
    {
     "name": "stdout",
     "output_type": "stream",
     "text": [
      "  (0, 4)\t0.5773502691896257\n",
      "  (0, 2)\t0.5773502691896257\n",
      "  (0, 1)\t0.5773502691896257\n",
      "  (1, 3)\t0.680918560398684\n",
      "  (1, 0)\t0.5178561161676974\n",
      "  (1, 1)\t0.5178561161676974\n",
      "  (2, 0)\t0.5773502691896257\n",
      "  (2, 4)\t0.5773502691896257\n",
      "  (2, 2)\t0.5773502691896257\n"
     ]
    }
   ],
   "source": [
    "print(TFIDFtext) "
   ]
  },
  {
   "cell_type": "code",
   "execution_count": null,
   "metadata": {},
   "outputs": [],
   "source": []
  }
 ],
 "metadata": {
  "kernelspec": {
   "display_name": "ml311",
   "language": "python",
   "name": "python3"
  },
  "language_info": {
   "codemirror_mode": {
    "name": "ipython",
    "version": 3
   },
   "file_extension": ".py",
   "mimetype": "text/x-python",
   "name": "python",
   "nbconvert_exporter": "python",
   "pygments_lexer": "ipython3",
   "version": "3.11.7"
  }
 },
 "nbformat": 4,
 "nbformat_minor": 2
}
