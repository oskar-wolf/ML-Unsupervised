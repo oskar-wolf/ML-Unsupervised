{
 "cells": [
  {
   "cell_type": "code",
   "execution_count": 1,
   "metadata": {},
   "outputs": [],
   "source": [
    "import pandas as pd\n",
    "\n",
    "from sklearn.preprocessing import MinMaxScaler\n",
    "from sklearn.preprocessing import StandardScaler\n",
    "from sklearn.preprocessing import RobustScaler"
   ]
  },
  {
   "cell_type": "code",
   "execution_count": 2,
   "metadata": {},
   "outputs": [],
   "source": [
    "Table = {\\\n",
    "    'Customer-ID': [1, 2, 3, 4, 5], \\\n",
    "    'Gender': ['M', 'F', 'M',' F', 'F'], \\\n",
    "    'Work-type': [1, 2, 2, 3, 3], \\\n",
    "    'Client-satisfaction': [3, 0, 4, 3, 5], \\\n",
    "    'Number-occupants': [2, 4, 2, 1, 2], \\\n",
    "    'Consumption': [70, 140, 65, 40, 65]}\n",
    "\n",
    "TDF = pd.DataFrame(data =Table)"
   ]
  },
  {
   "cell_type": "code",
   "execution_count": 3,
   "metadata": {},
   "outputs": [],
   "source": [
    "MMS = MinMaxScaler().fit_transform(TDF[['Consumption']])\n",
    "TDF['Consumption'] = MMS "
   ]
  },
  {
   "cell_type": "code",
   "execution_count": 4,
   "metadata": {},
   "outputs": [
    {
     "name": "stdout",
     "output_type": "stream",
     "text": [
      "0    0.30\n",
      "1    1.00\n",
      "2    0.25\n",
      "3    0.00\n",
      "4    0.25\n",
      "Name: Consumption, dtype: float64\n"
     ]
    }
   ],
   "source": [
    "print(TDF['Consumption'])"
   ]
  },
  {
   "cell_type": "code",
   "execution_count": 5,
   "metadata": {},
   "outputs": [
    {
     "name": "stdout",
     "output_type": "stream",
     "text": [
      "count    5.000000\n",
      "mean     0.360000\n",
      "std      0.376497\n",
      "min      0.000000\n",
      "25%      0.250000\n",
      "50%      0.250000\n",
      "75%      0.300000\n",
      "max      1.000000\n",
      "Name: Consumption, dtype: float64\n"
     ]
    }
   ],
   "source": [
    "print(TDF['Consumption'].describe())"
   ]
  },
  {
   "cell_type": "code",
   "execution_count": 6,
   "metadata": {},
   "outputs": [],
   "source": [
    "TDF = pd.DataFrame(data=Table)\n",
    "ST = StandardScaler().fit_transform(TDF[['Consumption']])\n",
    "TDF['Consumption'] = ST"
   ]
  },
  {
   "cell_type": "code",
   "execution_count": 7,
   "metadata": {},
   "outputs": [
    {
     "name": "stdout",
     "output_type": "stream",
     "text": [
      "0   -0.178174\n",
      "1    1.900524\n",
      "2   -0.326653\n",
      "3   -1.069045\n",
      "4   -0.326653\n",
      "Name: Consumption, dtype: float64\n"
     ]
    }
   ],
   "source": [
    "print(TDF['Consumption'])"
   ]
  },
  {
   "cell_type": "code",
   "execution_count": 8,
   "metadata": {},
   "outputs": [
    {
     "name": "stdout",
     "output_type": "stream",
     "text": [
      "count    5.000000e+00\n",
      "mean    -3.330669e-17\n",
      "std      1.118034e+00\n",
      "min     -1.069045e+00\n",
      "25%     -3.266526e-01\n",
      "50%     -3.266526e-01\n",
      "75%     -1.781742e-01\n",
      "max      1.900524e+00\n",
      "Name: Consumption, dtype: float64\n"
     ]
    }
   ],
   "source": [
    "print(TDF['Consumption'].describe())"
   ]
  },
  {
   "cell_type": "code",
   "execution_count": 9,
   "metadata": {},
   "outputs": [],
   "source": [
    "RS = RobustScaler().fit_transform(TDF[['Consumption']])\n",
    "TDF['Consumption'] = RS"
   ]
  },
  {
   "cell_type": "code",
   "execution_count": 10,
   "metadata": {},
   "outputs": [
    {
     "name": "stdout",
     "output_type": "stream",
     "text": [
      "0     1.0\n",
      "1    15.0\n",
      "2     0.0\n",
      "3    -5.0\n",
      "4     0.0\n",
      "Name: Consumption, dtype: float64\n"
     ]
    }
   ],
   "source": [
    "print(TDF['Consumption'])"
   ]
  },
  {
   "cell_type": "code",
   "execution_count": 11,
   "metadata": {},
   "outputs": [
    {
     "name": "stdout",
     "output_type": "stream",
     "text": [
      "count     5.00000\n",
      "mean      2.20000\n",
      "std       7.52994\n",
      "min      -5.00000\n",
      "25%       0.00000\n",
      "50%       0.00000\n",
      "75%       1.00000\n",
      "max      15.00000\n",
      "Name: Consumption, dtype: float64\n"
     ]
    }
   ],
   "source": [
    "print(TDF['Consumption'].describe())"
   ]
  },
  {
   "cell_type": "code",
   "execution_count": null,
   "metadata": {},
   "outputs": [],
   "source": []
  }
 ],
 "metadata": {
  "kernelspec": {
   "display_name": "ml311",
   "language": "python",
   "name": "python3"
  },
  "language_info": {
   "codemirror_mode": {
    "name": "ipython",
    "version": 3
   },
   "file_extension": ".py",
   "mimetype": "text/x-python",
   "name": "python",
   "nbconvert_exporter": "python",
   "pygments_lexer": "ipython3",
   "version": "3.11.7"
  }
 },
 "nbformat": 4,
 "nbformat_minor": 2
}
